{
 "cells": [
  {
   "cell_type": "code",
   "execution_count": 1,
   "metadata": {},
   "outputs": [],
   "source": [
    "from tqdm import tqdm\n",
    "import requests\n",
    "import pandas as pd\n",
    "import time\n",
    "from bs4 import BeautifulSoup\n",
    "import os"
   ]
  },
  {
   "cell_type": "code",
   "execution_count": 13,
   "metadata": {},
   "outputs": [
    {
     "data": {
      "text/plain": [
       "array([1, 2, 3])"
      ]
     },
     "execution_count": 13,
     "metadata": {},
     "output_type": "execute_result"
    }
   ],
   "source": [
    "movers_to_scrape_metadata_for = pd.read_csv(\n",
    "    \"movers_2021-2024.txt\",\n",
    "    header=None,\n",
    "    delimiter=\";\",\n",
    "    names=[\"totas_id\", \"mover_id\", \"label\"],\n",
    ")\n",
    "movers_to_scrape_metadata_for[\"label\"].unique()"
   ]
  },
  {
   "cell_type": "code",
   "execution_count": 14,
   "metadata": {},
   "outputs": [
    {
     "data": {
      "text/html": [
       "<div>\n",
       "<style scoped>\n",
       "    .dataframe tbody tr th:only-of-type {\n",
       "        vertical-align: middle;\n",
       "    }\n",
       "\n",
       "    .dataframe tbody tr th {\n",
       "        vertical-align: top;\n",
       "    }\n",
       "\n",
       "    .dataframe thead th {\n",
       "        text-align: right;\n",
       "    }\n",
       "</style>\n",
       "<table border=\"1\" class=\"dataframe\">\n",
       "  <thead>\n",
       "    <tr style=\"text-align: right;\">\n",
       "      <th></th>\n",
       "      <th>totas_id</th>\n",
       "      <th>mover_id</th>\n",
       "      <th>label</th>\n",
       "    </tr>\n",
       "  </thead>\n",
       "  <tbody>\n",
       "    <tr>\n",
       "      <th>3244</th>\n",
       "      <td>507665</td>\n",
       "      <td>M315765</td>\n",
       "      <td>3</td>\n",
       "    </tr>\n",
       "    <tr>\n",
       "      <th>3890</th>\n",
       "      <td>508311</td>\n",
       "      <td>M316000</td>\n",
       "      <td>3</td>\n",
       "    </tr>\n",
       "    <tr>\n",
       "      <th>4077</th>\n",
       "      <td>508498</td>\n",
       "      <td>M316125</td>\n",
       "      <td>3</td>\n",
       "    </tr>\n",
       "    <tr>\n",
       "      <th>4331</th>\n",
       "      <td>508753</td>\n",
       "      <td>M316236</td>\n",
       "      <td>3</td>\n",
       "    </tr>\n",
       "    <tr>\n",
       "      <th>4341</th>\n",
       "      <td>508763</td>\n",
       "      <td>M316243</td>\n",
       "      <td>3</td>\n",
       "    </tr>\n",
       "    <tr>\n",
       "      <th>...</th>\n",
       "      <td>...</td>\n",
       "      <td>...</td>\n",
       "      <td>...</td>\n",
       "    </tr>\n",
       "    <tr>\n",
       "      <th>41798</th>\n",
       "      <td>546251</td>\n",
       "      <td>M332146</td>\n",
       "      <td>3</td>\n",
       "    </tr>\n",
       "    <tr>\n",
       "      <th>41828</th>\n",
       "      <td>546281</td>\n",
       "      <td>M332169</td>\n",
       "      <td>3</td>\n",
       "    </tr>\n",
       "    <tr>\n",
       "      <th>41919</th>\n",
       "      <td>546372</td>\n",
       "      <td>M332232</td>\n",
       "      <td>3</td>\n",
       "    </tr>\n",
       "    <tr>\n",
       "      <th>41988</th>\n",
       "      <td>546441</td>\n",
       "      <td>M332291</td>\n",
       "      <td>3</td>\n",
       "    </tr>\n",
       "    <tr>\n",
       "      <th>42023</th>\n",
       "      <td>546476</td>\n",
       "      <td>M332318</td>\n",
       "      <td>3</td>\n",
       "    </tr>\n",
       "  </tbody>\n",
       "</table>\n",
       "<p>133 rows × 3 columns</p>\n",
       "</div>"
      ],
      "text/plain": [
       "       totas_id mover_id  label\n",
       "3244     507665  M315765      3\n",
       "3890     508311  M316000      3\n",
       "4077     508498  M316125      3\n",
       "4331     508753  M316236      3\n",
       "4341     508763  M316243      3\n",
       "...         ...      ...    ...\n",
       "41798    546251  M332146      3\n",
       "41828    546281  M332169      3\n",
       "41919    546372  M332232      3\n",
       "41988    546441  M332291      3\n",
       "42023    546476  M332318      3\n",
       "\n",
       "[133 rows x 3 columns]"
      ]
     },
     "execution_count": 14,
     "metadata": {},
     "output_type": "execute_result"
    }
   ],
   "source": [
    "movers_to_scrape_metadata_for[movers_to_scrape_metadata_for[\"label\"] == 3]"
   ]
  },
  {
   "cell_type": "code",
   "execution_count": 16,
   "metadata": {},
   "outputs": [],
   "source": [
    "label_conversion = {1: 1, 2: 0, 3: -1}  # real  # bogus  # unknown"
   ]
  },
  {
   "cell_type": "code",
   "execution_count": 17,
   "metadata": {},
   "outputs": [
    {
     "data": {
      "text/html": [
       "<div>\n",
       "<style scoped>\n",
       "    .dataframe tbody tr th:only-of-type {\n",
       "        vertical-align: middle;\n",
       "    }\n",
       "\n",
       "    .dataframe tbody tr th {\n",
       "        vertical-align: top;\n",
       "    }\n",
       "\n",
       "    .dataframe thead th {\n",
       "        text-align: right;\n",
       "    }\n",
       "</style>\n",
       "<table border=\"1\" class=\"dataframe\">\n",
       "  <thead>\n",
       "    <tr style=\"text-align: right;\">\n",
       "      <th></th>\n",
       "      <th>totas_id</th>\n",
       "      <th>mover_id</th>\n",
       "      <th>label</th>\n",
       "    </tr>\n",
       "  </thead>\n",
       "  <tbody>\n",
       "    <tr>\n",
       "      <th>0</th>\n",
       "      <td>504421</td>\n",
       "      <td>TKCCA25</td>\n",
       "      <td>1</td>\n",
       "    </tr>\n",
       "    <tr>\n",
       "      <th>1</th>\n",
       "      <td>504422</td>\n",
       "      <td>TKCCA26</td>\n",
       "      <td>1</td>\n",
       "    </tr>\n",
       "    <tr>\n",
       "      <th>2</th>\n",
       "      <td>504423</td>\n",
       "      <td>TKCCA27</td>\n",
       "      <td>1</td>\n",
       "    </tr>\n",
       "    <tr>\n",
       "      <th>3</th>\n",
       "      <td>504424</td>\n",
       "      <td>TKCCA28</td>\n",
       "      <td>1</td>\n",
       "    </tr>\n",
       "    <tr>\n",
       "      <th>4</th>\n",
       "      <td>504425</td>\n",
       "      <td>TKCCA29</td>\n",
       "      <td>1</td>\n",
       "    </tr>\n",
       "    <tr>\n",
       "      <th>...</th>\n",
       "      <td>...</td>\n",
       "      <td>...</td>\n",
       "      <td>...</td>\n",
       "    </tr>\n",
       "    <tr>\n",
       "      <th>43068</th>\n",
       "      <td>547521</td>\n",
       "      <td>TO2C148</td>\n",
       "      <td>1</td>\n",
       "    </tr>\n",
       "    <tr>\n",
       "      <th>43069</th>\n",
       "      <td>547522</td>\n",
       "      <td>TO2C149</td>\n",
       "      <td>1</td>\n",
       "    </tr>\n",
       "    <tr>\n",
       "      <th>43070</th>\n",
       "      <td>547523</td>\n",
       "      <td>TO2C150</td>\n",
       "      <td>1</td>\n",
       "    </tr>\n",
       "    <tr>\n",
       "      <th>43071</th>\n",
       "      <td>547524</td>\n",
       "      <td>TO2C151</td>\n",
       "      <td>1</td>\n",
       "    </tr>\n",
       "    <tr>\n",
       "      <th>43072</th>\n",
       "      <td>547525</td>\n",
       "      <td>OG21355</td>\n",
       "      <td>1</td>\n",
       "    </tr>\n",
       "  </tbody>\n",
       "</table>\n",
       "<p>43073 rows × 3 columns</p>\n",
       "</div>"
      ],
      "text/plain": [
       "       totas_id mover_id  label\n",
       "0        504421  TKCCA25      1\n",
       "1        504422  TKCCA26      1\n",
       "2        504423  TKCCA27      1\n",
       "3        504424  TKCCA28      1\n",
       "4        504425  TKCCA29      1\n",
       "...         ...      ...    ...\n",
       "43068    547521  TO2C148      1\n",
       "43069    547522  TO2C149      1\n",
       "43070    547523  TO2C150      1\n",
       "43071    547524  TO2C151      1\n",
       "43072    547525  OG21355      1\n",
       "\n",
       "[43073 rows x 3 columns]"
      ]
     },
     "execution_count": 17,
     "metadata": {},
     "output_type": "execute_result"
    }
   ],
   "source": [
    "movers_to_scrape_metadata_for[\"label\"] = movers_to_scrape_metadata_for[\"label\"].map(\n",
    "    label_conversion\n",
    ")\n",
    "movers_to_scrape_metadata_for"
   ]
  },
  {
   "cell_type": "code",
   "execution_count": 18,
   "metadata": {},
   "outputs": [],
   "source": [
    "movers = movers_to_scrape_metadata_for[movers_to_scrape_metadata_for[\"label\"] != -1]"
   ]
  },
  {
   "cell_type": "code",
   "execution_count": 21,
   "metadata": {},
   "outputs": [
    {
     "data": {
      "text/html": [
       "<div>\n",
       "<style scoped>\n",
       "    .dataframe tbody tr th:only-of-type {\n",
       "        vertical-align: middle;\n",
       "    }\n",
       "\n",
       "    .dataframe tbody tr th {\n",
       "        vertical-align: top;\n",
       "    }\n",
       "\n",
       "    .dataframe thead th {\n",
       "        text-align: right;\n",
       "    }\n",
       "</style>\n",
       "<table border=\"1\" class=\"dataframe\">\n",
       "  <thead>\n",
       "    <tr style=\"text-align: right;\">\n",
       "      <th></th>\n",
       "      <th>totas_id</th>\n",
       "      <th>mover_id</th>\n",
       "      <th>label</th>\n",
       "    </tr>\n",
       "  </thead>\n",
       "  <tbody>\n",
       "    <tr>\n",
       "      <th>0</th>\n",
       "      <td>504421</td>\n",
       "      <td>TKCCA25</td>\n",
       "      <td>1</td>\n",
       "    </tr>\n",
       "    <tr>\n",
       "      <th>1</th>\n",
       "      <td>504422</td>\n",
       "      <td>TKCCA26</td>\n",
       "      <td>1</td>\n",
       "    </tr>\n",
       "    <tr>\n",
       "      <th>2</th>\n",
       "      <td>504423</td>\n",
       "      <td>TKCCA27</td>\n",
       "      <td>1</td>\n",
       "    </tr>\n",
       "    <tr>\n",
       "      <th>3</th>\n",
       "      <td>504424</td>\n",
       "      <td>TKCCA28</td>\n",
       "      <td>1</td>\n",
       "    </tr>\n",
       "    <tr>\n",
       "      <th>4</th>\n",
       "      <td>504425</td>\n",
       "      <td>TKCCA29</td>\n",
       "      <td>1</td>\n",
       "    </tr>\n",
       "    <tr>\n",
       "      <th>...</th>\n",
       "      <td>...</td>\n",
       "      <td>...</td>\n",
       "      <td>...</td>\n",
       "    </tr>\n",
       "    <tr>\n",
       "      <th>43068</th>\n",
       "      <td>547521</td>\n",
       "      <td>TO2C148</td>\n",
       "      <td>1</td>\n",
       "    </tr>\n",
       "    <tr>\n",
       "      <th>43069</th>\n",
       "      <td>547522</td>\n",
       "      <td>TO2C149</td>\n",
       "      <td>1</td>\n",
       "    </tr>\n",
       "    <tr>\n",
       "      <th>43070</th>\n",
       "      <td>547523</td>\n",
       "      <td>TO2C150</td>\n",
       "      <td>1</td>\n",
       "    </tr>\n",
       "    <tr>\n",
       "      <th>43071</th>\n",
       "      <td>547524</td>\n",
       "      <td>TO2C151</td>\n",
       "      <td>1</td>\n",
       "    </tr>\n",
       "    <tr>\n",
       "      <th>43072</th>\n",
       "      <td>547525</td>\n",
       "      <td>OG21355</td>\n",
       "      <td>1</td>\n",
       "    </tr>\n",
       "  </tbody>\n",
       "</table>\n",
       "<p>42940 rows × 3 columns</p>\n",
       "</div>"
      ],
      "text/plain": [
       "       totas_id mover_id  label\n",
       "0        504421  TKCCA25      1\n",
       "1        504422  TKCCA26      1\n",
       "2        504423  TKCCA27      1\n",
       "3        504424  TKCCA28      1\n",
       "4        504425  TKCCA29      1\n",
       "...         ...      ...    ...\n",
       "43068    547521  TO2C148      1\n",
       "43069    547522  TO2C149      1\n",
       "43070    547523  TO2C150      1\n",
       "43071    547524  TO2C151      1\n",
       "43072    547525  OG21355      1\n",
       "\n",
       "[42940 rows x 3 columns]"
      ]
     },
     "execution_count": 21,
     "metadata": {},
     "output_type": "execute_result"
    }
   ],
   "source": [
    "movers"
   ]
  },
  {
   "cell_type": "code",
   "execution_count": 43,
   "metadata": {},
   "outputs": [
    {
     "data": {
      "text/plain": [
       "array([504421, 504422, 504423, ..., 547523, 547524, 547525])"
      ]
     },
     "execution_count": 43,
     "metadata": {},
     "output_type": "execute_result"
    }
   ],
   "source": [
    "movers[\"totas_id\"].unique()"
   ]
  },
  {
   "cell_type": "code",
   "execution_count": 41,
   "metadata": {},
   "outputs": [],
   "source": [
    "# save the data\n",
    "movers.to_csv(\"movers_2021-2024_cleaned.txt\", index=False)"
   ]
  },
  {
   "cell_type": "code",
   "execution_count": 23,
   "metadata": {},
   "outputs": [],
   "source": [
    "base = \"https://totas.cosmos.esa.int/mover.php?id=\"\n",
    "real_test = 504423\n",
    "bogus_test = 504485"
   ]
  },
  {
   "cell_type": "code",
   "execution_count": 24,
   "metadata": {},
   "outputs": [],
   "source": [
    "real_url = base + str(real_test)\n",
    "bogus_url = base + str(bogus_test)"
   ]
  },
  {
   "cell_type": "code",
   "execution_count": 26,
   "metadata": {},
   "outputs": [],
   "source": [
    "real_request = requests.get(real_url)\n",
    "real_soup = BeautifulSoup(real_request.text, \"html.parser\")"
   ]
  },
  {
   "cell_type": "code",
   "execution_count": 37,
   "metadata": {},
   "outputs": [],
   "source": [
    "bogus_request = requests.get(bogus_url)\n",
    "bogus_soup = BeautifulSoup(bogus_request.text, \"html.parser\")"
   ]
  },
  {
   "cell_type": "code",
   "execution_count": 39,
   "metadata": {},
   "outputs": [
    {
     "data": {
      "text/plain": [
       "['image-view.php?file=2021/02/08/026036/movers/b0504485-2.png',\n",
       " 'image-view.php?file=2021/02/08/026036/movers/b0504485-3.png',\n",
       " 'image-view.php?file=2021/02/08/026036/movers/b0504485-4.png',\n",
       " 'image-view.php?file=2021/02/08/026036/movers/b0504485-1.png']"
      ]
     },
     "execution_count": 39,
     "metadata": {},
     "output_type": "execute_result"
    }
   ],
   "source": [
    "images = bogus_soup.findAll(\"img\")\n",
    "images = [\n",
    "    image[\"src\"] for image in images if \"b\" in image[\"src\"] and \".png\" in image[\"src\"]\n",
    "]\n",
    "images = list(set(images))\n",
    "images"
   ]
  },
  {
   "cell_type": "code",
   "execution_count": 40,
   "metadata": {},
   "outputs": [
    {
     "data": {
      "text/plain": [
       "['b0504485-2.png', 'b0504485-3.png', 'b0504485-4.png', 'b0504485-1.png']"
      ]
     },
     "execution_count": 40,
     "metadata": {},
     "output_type": "execute_result"
    }
   ],
   "source": [
    "images = [image.split(\"/\")[-1] for image in images]\n",
    "images"
   ]
  },
  {
   "cell_type": "code",
   "execution_count": null,
   "metadata": {},
   "outputs": [],
   "source": [
    "def get_mover_to_image_mapping(mover_id):\n",
    "    base = \"https://totas.cosmos.esa.int/mover.php?id=\"\n",
    "    url = base + str(mover_id)\n",
    "    request = requests.get(url)\n",
    "    soup = BeautifulSoup(request.text, \"html.parser\")\n",
    "    images = soup.findAll(\"img\")\n",
    "    images = [\n",
    "        image[\"src\"]\n",
    "        for image in images\n",
    "        if \"b\" in image[\"src\"] and \".png\" in image[\"src\"]\n",
    "    ]\n",
    "    images = list(set(images))\n",
    "    images = [image.split(\"/\")[-1] for image in images]\n",
    "\n",
    "    return images"
   ]
  }
 ],
 "metadata": {
  "kernelspec": {
   "display_name": "mlp",
   "language": "python",
   "name": "python3"
  },
  "language_info": {
   "codemirror_mode": {
    "name": "ipython",
    "version": 3
   },
   "file_extension": ".py",
   "mimetype": "text/x-python",
   "name": "python",
   "nbconvert_exporter": "python",
   "pygments_lexer": "ipython3",
   "version": "3.11.5"
  }
 },
 "nbformat": 4,
 "nbformat_minor": 2
}
